{
 "cells": [
  {
   "metadata": {},
   "cell_type": "markdown",
   "source": "## Regressão logística",
   "id": "dff1aa2096d8179c"
  },
  {
   "metadata": {},
   "cell_type": "markdown",
   "source": "### Bibliotecas e bases de dados",
   "id": "77d2d9c0e010124a"
  },
  {
   "cell_type": "code",
   "execution_count": null,
   "id": "initial_id",
   "metadata": {
    "collapsed": true
   },
   "outputs": [],
   "source": [
    "import pandas as pd\n",
    "from sklearn.preprocessing import OneHotEncoder\n",
    "import numpy as np\n",
    "import seaborn as sns\n",
    "import matplotlib.pyplot as plt\n",
    "import warnings\n",
    "warnings.filterwarnings('ignore')"
   ]
  },
  {
   "metadata": {},
   "cell_type": "code",
   "outputs": [],
   "execution_count": null,
   "source": [
    "pd.set_option('display.max_rows', None)              \n",
    "pd.set_option('display.max_columns', None)          \n",
    "pd.set_option('display.max_colwidth', 50)           \n",
    "pd.set_option('display.width', 1000)                 \n",
    "pd.set_option('display.float_format', '{:.2f}'.format)  \n",
    "pd.set_option('display.colheader_justify', 'left')  \n",
    "pd.set_option('display.float_format', '{:,.2f}'.format)\n",
    "def estilo_minimalista(df):\n",
    "    return df.style.set_properties(**{\n",
    "        'font-size': '8px',    \n",
    "        'border-color': 'black', \n",
    "        'border-width': '0.4px',   \n",
    "        'border-style': 'solid',\n",
    "        'padding': '1px',        \n",
    "    })\n",
    "sns.set_theme(style=\"white\", palette=\"deep\", context=\"talk\",font_scale=0.8)\n",
    "plt.rcParams['figure.figsize'] = (12, 6)"
   ],
   "id": "a2ace749370a2cc9"
  }
 ],
 "metadata": {
  "kernelspec": {
   "display_name": "Python 3",
   "language": "python",
   "name": "python3"
  },
  "language_info": {
   "codemirror_mode": {
    "name": "ipython",
    "version": 2
   },
   "file_extension": ".py",
   "mimetype": "text/x-python",
   "name": "python",
   "nbconvert_exporter": "python",
   "pygments_lexer": "ipython2",
   "version": "2.7.6"
  }
 },
 "nbformat": 4,
 "nbformat_minor": 5
}
